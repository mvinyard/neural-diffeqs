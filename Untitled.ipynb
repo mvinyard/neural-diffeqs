{
 "cells": [
  {
   "cell_type": "code",
   "execution_count": 1,
   "id": "9eec6afd",
   "metadata": {},
   "outputs": [],
   "source": [
    "import neural_diffeqs"
   ]
  },
  {
   "cell_type": "code",
   "execution_count": 2,
   "id": "2af40714",
   "metadata": {},
   "outputs": [
    {
     "data": {
      "text/plain": [
       "['/home/mvinyard/github/neural-diffeqs/neural_diffeqs']"
      ]
     },
     "execution_count": 2,
     "metadata": {},
     "output_type": "execute_result"
    }
   ],
   "source": [
    "neural_diffeqs.__path__"
   ]
  },
  {
   "cell_type": "code",
   "execution_count": 4,
   "id": "b3c6c560",
   "metadata": {},
   "outputs": [],
   "source": [
    "import torch\n",
    "import torchsde\n",
    "\n",
    "batch_size, state_size, brownian_size = 32, 3, 2\n",
    "t_size = 20"
   ]
  },
  {
   "cell_type": "code",
   "execution_count": 33,
   "id": "5a566785",
   "metadata": {},
   "outputs": [],
   "source": [
    "from abc import ABC"
   ]
  },
  {
   "cell_type": "code",
   "execution_count": 41,
   "id": "1cca8b52",
   "metadata": {},
   "outputs": [],
   "source": [
    "class DiffEq(ABC, torch.nn.Module):\n",
    "    def __init__(self, *args, **kwargs):\n",
    "        ...\n",
    "        \n",
    "    def forward(self):\n",
    "        ..."
   ]
  },
  {
   "cell_type": "code",
   "execution_count": null,
   "id": "de5f1291",
   "metadata": {},
   "outputs": [],
   "source": [
    "# -- import packages: --------------------------------------------------------------------\n",
    "from torch_nets import TorchNet\n",
    "\n",
    "\n",
    "from ._base._neural_diffeq import NeuralDiffEq\n",
    "\n",
    "\n",
    "# -- configure potential function: -------------------------------------------------------\n",
    "class ConfigurePotential:\n",
    "    def __init__(\n",
    "        self,\n",
    "        state_size,\n",
    "        mu_potential,\n",
    "        sigma_potential,\n",
    "        mu_output_bias,\n",
    "        sigma_output_bias,\n",
    "    ):\n",
    "\n",
    "        self.__dict__.update(locals())\n",
    "\n",
    "    def init_state_size(self):\n",
    "        for net in [\"mu\", \"sigma\"]:\n",
    "            for io in [\"in\", \"out\"]:\n",
    "                attr = \"{}_{}_features\".format(net, io)\n",
    "                setattr(self, attr, self.state_size)\n",
    "\n",
    "    def update_state_size(self):\n",
    "        if self.mu_potential:\n",
    "            self.mu_out_features = 1\n",
    "        if self.sigma_potential:\n",
    "            self.sigma_out_features = 1\n",
    "\n",
    "    def update_output_bias(self):\n",
    "        if self.mu_potential:\n",
    "            self.mu_output_bias = False\n",
    "        if self.sigma_potential:\n",
    "            self.sigma_output_bias = False\n",
    "\n",
    "    def __call__(self):\n",
    "        self.init_state_size()\n",
    "        self.update_state_size()\n",
    "        self.update_output_bias()\n",
    "\n",
    "\n",
    "def configure_potential(\n",
    "    state_size,\n",
    "    mu_potential,\n",
    "    sigma_potential,\n",
    "    mu_output_bias,\n",
    "    sigma_output_bias,\n",
    "):\n",
    "    \"\"\" \"\"\"\n",
    "    config_potential = ConfigurePotential(\n",
    "        state_size=state_size,\n",
    "        mu_potential=mu_potential,\n",
    "        sigma_potential=sigma_potential,\n",
    "        mu_output_bias=mu_output_bias,\n",
    "        sigma_output_bias=sigma_output_bias,\n",
    "    )\n",
    "    config_potential()\n",
    "\n",
    "    return config_potential\n",
    "\n",
    "\n",
    "super(NeuralSDE, self).__init__()\n",
    "\n",
    "config = configure_potential(\n",
    "    state_size,\n",
    "    mu_potential,\n",
    "    sigma_potential,\n",
    "    mu_output_bias,\n",
    "    sigma_output_bias,\n",
    ")\n",
    "mu = TorchNet(\n",
    "    in_features=config.mu_in_features,\n",
    "    out_features=config.mu_out_features,\n",
    "    hidden=mu_hidden,\n",
    "    activation=mu_activation,\n",
    "    dropout=mu_dropout,\n",
    "    bias=mu_bias,\n",
    "    output_bias=config.mu_output_bias,\n",
    ")\n",
    "\n",
    "sigma = TorchNet(\n",
    "    in_features=config.sigma_in_features,\n",
    "    out_features=config.sigma_out_features,\n",
    "    hidden=sigma_hidden,\n",
    "    activation=sigma_activation,\n",
    "    dropout=sigma_dropout,\n",
    "    bias=sigma_bias,\n",
    "    output_bias=config.sigma_output_bias,\n",
    ")\n",
    "self.__setup__(kwargs=locals())"
   ]
  },
  {
   "cell_type": "code",
   "execution_count": 54,
   "id": "b9280c1f",
   "metadata": {},
   "outputs": [],
   "source": [
    "from torch_nets import TorchNet"
   ]
  },
  {
   "cell_type": "code",
   "execution_count": 77,
   "id": "68044dac",
   "metadata": {},
   "outputs": [],
   "source": []
  },
  {
   "cell_type": "code",
   "execution_count": 78,
   "id": "59d590c2",
   "metadata": {},
   "outputs": [
    {
     "data": {
      "text/plain": [
       "(torch.Size([200, 50]), torch.Size([200, 50]), torch.Size([200, 1]))"
      ]
     },
     "execution_count": 78,
     "metadata": {},
     "output_type": "execute_result"
    }
   ],
   "source": [
    "X = torch.randn([200, 50])\n",
    "f_net(X).shape, g_net(X).shape, h_net(X).shape"
   ]
  },
  {
   "cell_type": "code",
   "execution_count": 124,
   "id": "7371eef5",
   "metadata": {},
   "outputs": [
    {
     "name": "stdout",
     "output_type": "stream",
     "text": [
      "The nb_black extension is already loaded. To reload it, use:\n",
      "  %reload_ext nb_black\n"
     ]
    },
    {
     "data": {
      "application/javascript": [
       "\n",
       "            setTimeout(function() {\n",
       "                var nbb_cell_id = 124;\n",
       "                var nbb_unformatted_code = \"%load_ext nb_black\\n\\n\\n__module_name__ = \\\"_auto_parse_base_class.py\\\"\\n__doc__ = \\\"\\\"\\\"Better abstract base class for auto-parsing inputs.\\\"\\\"\\\"\\n__author__ = \\\", \\\".join([\\\"Michael E. Vinyard\\\"])\\n__email__ = \\\", \\\".join([\\\"vinyard@g.harvard.edu\\\"])\\n\\n\\n# -- import packages: ----------------------------------------------------------\\nfrom abc import ABC\\nimport inspect\\n\\n\\n# -- Main class: ---------------------------------------------------------------\";\n",
       "                var nbb_formatted_code = \"%load_ext nb_black\\n\\n\\n__module_name__ = \\\"_auto_parse_base_class.py\\\"\\n__doc__ = \\\"\\\"\\\"Better abstract base class for auto-parsing inputs.\\\"\\\"\\\"\\n__author__ = \\\", \\\".join([\\\"Michael E. Vinyard\\\"])\\n__email__ = \\\", \\\".join([\\\"vinyard@g.harvard.edu\\\"])\\n\\n\\n# -- import packages: ----------------------------------------------------------\\nfrom abc import ABC\\nimport inspect\\n\\n\\n# -- Main class: ---------------------------------------------------------------\";\n",
       "                var nbb_cells = Jupyter.notebook.get_cells();\n",
       "                for (var i = 0; i < nbb_cells.length; ++i) {\n",
       "                    if (nbb_cells[i].input_prompt_number == nbb_cell_id) {\n",
       "                        if (nbb_cells[i].get_text() == nbb_unformatted_code) {\n",
       "                             nbb_cells[i].set_text(nbb_formatted_code);\n",
       "                        }\n",
       "                        break;\n",
       "                    }\n",
       "                }\n",
       "            }, 500);\n",
       "            "
      ],
      "text/plain": [
       "<IPython.core.display.Javascript object>"
      ]
     },
     "metadata": {},
     "output_type": "display_data"
    }
   ],
   "source": [
    "%load_ext nb_black\n",
    "\n",
    "\n",
    "__module_name__ = \"_auto_parse_base_class.py\"\n",
    "__doc__ = \"\"\"Better abstract base class for auto-parsing inputs.\"\"\"\n",
    "__author__ = \", \".join([\"Michael E. Vinyard\"])\n",
    "__email__ = \", \".join([\"vinyard@g.harvard.edu\"])\n",
    "\n",
    "\n",
    "# -- import packages: ----------------------------------------------------------\n",
    "from abc import ABC\n",
    "import inspect\n",
    "\n",
    "\n",
    "# -- Main class: ---------------------------------------------------------------"
   ]
  },
  {
   "cell_type": "code",
   "execution_count": 133,
   "id": "7a61ef89",
   "metadata": {},
   "outputs": [
    {
     "data": {
      "text/plain": [
       "80"
      ]
     },
     "execution_count": 133,
     "metadata": {},
     "output_type": "execute_result"
    },
    {
     "data": {
      "application/javascript": [
       "\n",
       "            setTimeout(function() {\n",
       "                var nbb_cell_id = 133;\n",
       "                var nbb_unformatted_code = \"len(\\\"# -- Main class: ---------------------------------------------------------------\\\")\";\n",
       "                var nbb_formatted_code = \"len(\\\"# -- Main class: ---------------------------------------------------------------\\\")\";\n",
       "                var nbb_cells = Jupyter.notebook.get_cells();\n",
       "                for (var i = 0; i < nbb_cells.length; ++i) {\n",
       "                    if (nbb_cells[i].input_prompt_number == nbb_cell_id) {\n",
       "                        if (nbb_cells[i].get_text() == nbb_unformatted_code) {\n",
       "                             nbb_cells[i].set_text(nbb_formatted_code);\n",
       "                        }\n",
       "                        break;\n",
       "                    }\n",
       "                }\n",
       "            }, 500);\n",
       "            "
      ],
      "text/plain": [
       "<IPython.core.display.Javascript object>"
      ]
     },
     "metadata": {},
     "output_type": "display_data"
    }
   ],
   "source": [
    "len(\"# -- Main class: ---------------------------------------------------------------\")"
   ]
  },
  {
   "cell_type": "code",
   "execution_count": 127,
   "id": "aeb807e5",
   "metadata": {},
   "outputs": [
    {
     "data": {
      "application/javascript": [
       "\n",
       "            setTimeout(function() {\n",
       "                var nbb_cell_id = 127;\n",
       "                var nbb_unformatted_code = \"from typing import Any\";\n",
       "                var nbb_formatted_code = \"from typing import Any\";\n",
       "                var nbb_cells = Jupyter.notebook.get_cells();\n",
       "                for (var i = 0; i < nbb_cells.length; ++i) {\n",
       "                    if (nbb_cells[i].input_prompt_number == nbb_cell_id) {\n",
       "                        if (nbb_cells[i].get_text() == nbb_unformatted_code) {\n",
       "                             nbb_cells[i].set_text(nbb_formatted_code);\n",
       "                        }\n",
       "                        break;\n",
       "                    }\n",
       "                }\n",
       "            }, 500);\n",
       "            "
      ],
      "text/plain": [
       "<IPython.core.display.Javascript object>"
      ]
     },
     "metadata": {},
     "output_type": "display_data"
    }
   ],
   "source": [
    "from typing import Any"
   ]
  },
  {
   "cell_type": "code",
   "execution_count": 112,
   "id": "2bcd61ca",
   "metadata": {},
   "outputs": [
    {
     "data": {
      "application/javascript": [
       "\n",
       "            setTimeout(function() {\n",
       "                var nbb_cell_id = 112;\n",
       "                var nbb_unformatted_code = \"class NeuralSDE(ABC, torch.nn.Module):\\n    def __init__(self, *args, **kwargs):\\n        super(NeuralSDE, self).__init__()\\n\\n        self.mu = TorchNet(in_features=50, out_features=50, hidden=[400, 400])\\n        self.sigma = TorchNet(in_features=50, out_features=50, hidden=[400, 400])\\n        self.mu_prior = TorchNet(\\n            in_features=50, out_features=1, hidden=[400, 400], output_bias=False\\n        )\\n\\n    @property\\n    def noise_type(self):\\n        return \\\"general\\\"\\n\\n    @property\\n    def sde_type(self):\\n        return \\\"ito\\\"\\n\\n    @property\\n    def noise_channels(self):\\n        return 1\\n\\n    # -- methods handled by `torchsde`: ----------------------------------\\n    def f(self, t, y0):\\n        return self.mu(y0)\\n\\n    def g(self, t, y0):\\n        return self.sigma(y0).view(y0.shape[0], y0.shape[1], self.noise_channels)\\n\\n    def h(self, t, y0):\\n        return self.mu_prior(y0)\";\n",
       "                var nbb_formatted_code = \"class NeuralSDE(ABC, torch.nn.Module):\\n    def __init__(self, *args, **kwargs):\\n        super(NeuralSDE, self).__init__()\\n\\n        self.mu = TorchNet(in_features=50, out_features=50, hidden=[400, 400])\\n        self.sigma = TorchNet(in_features=50, out_features=50, hidden=[400, 400])\\n        self.mu_prior = TorchNet(\\n            in_features=50, out_features=1, hidden=[400, 400], output_bias=False\\n        )\\n\\n    @property\\n    def noise_type(self):\\n        return \\\"general\\\"\\n\\n    @property\\n    def sde_type(self):\\n        return \\\"ito\\\"\\n\\n    @property\\n    def noise_channels(self):\\n        return 1\\n\\n    # -- methods handled by `torchsde`: ----------------------------------\\n    def f(self, t, y0):\\n        return self.mu(y0)\\n\\n    def g(self, t, y0):\\n        return self.sigma(y0).view(y0.shape[0], y0.shape[1], self.noise_channels)\\n\\n    def h(self, t, y0):\\n        return self.mu_prior(y0)\";\n",
       "                var nbb_cells = Jupyter.notebook.get_cells();\n",
       "                for (var i = 0; i < nbb_cells.length; ++i) {\n",
       "                    if (nbb_cells[i].input_prompt_number == nbb_cell_id) {\n",
       "                        if (nbb_cells[i].get_text() == nbb_unformatted_code) {\n",
       "                             nbb_cells[i].set_text(nbb_formatted_code);\n",
       "                        }\n",
       "                        break;\n",
       "                    }\n",
       "                }\n",
       "            }, 500);\n",
       "            "
      ],
      "text/plain": [
       "<IPython.core.display.Javascript object>"
      ]
     },
     "metadata": {},
     "output_type": "display_data"
    }
   ],
   "source": [
    "class NeuralSDE(ABC, torch.nn.Module):\n",
    "    def __init__(self, *args, **kwargs):\n",
    "        super(NeuralSDE, self).__init__()\n",
    "\n",
    "        self.mu = TorchNet(in_features=50, out_features=50, hidden=[400, 400])\n",
    "        self.sigma = TorchNet(in_features=50, out_features=50, hidden=[400, 400])\n",
    "        self.mu_prior = TorchNet(\n",
    "            in_features=50, out_features=1, hidden=[400, 400], output_bias=False\n",
    "        )\n",
    "\n",
    "    @property\n",
    "    def noise_type(self):\n",
    "        return \"general\"\n",
    "\n",
    "    @property\n",
    "    def sde_type(self):\n",
    "        return \"ito\"\n",
    "\n",
    "    @property\n",
    "    def noise_channels(self):\n",
    "        return 1\n",
    "\n",
    "    # -- methods handled by `torchsde`: ----------------------------------\n",
    "    def f(self, t, y0):\n",
    "        return self.mu(y0)\n",
    "\n",
    "    def g(self, t, y0):\n",
    "        return self.sigma(y0).view(y0.shape[0], y0.shape[1], self.noise_channels)\n",
    "\n",
    "    def h(self, t, y0):\n",
    "        return self.mu_prior(y0)"
   ]
  },
  {
   "cell_type": "code",
   "execution_count": 113,
   "id": "f132d819",
   "metadata": {},
   "outputs": [
    {
     "data": {
      "application/javascript": [
       "\n",
       "            setTimeout(function() {\n",
       "                var nbb_cell_id = 113;\n",
       "                var nbb_unformatted_code = \"SDE = NeuralSDE()\";\n",
       "                var nbb_formatted_code = \"SDE = NeuralSDE()\";\n",
       "                var nbb_cells = Jupyter.notebook.get_cells();\n",
       "                for (var i = 0; i < nbb_cells.length; ++i) {\n",
       "                    if (nbb_cells[i].input_prompt_number == nbb_cell_id) {\n",
       "                        if (nbb_cells[i].get_text() == nbb_unformatted_code) {\n",
       "                             nbb_cells[i].set_text(nbb_formatted_code);\n",
       "                        }\n",
       "                        break;\n",
       "                    }\n",
       "                }\n",
       "            }, 500);\n",
       "            "
      ],
      "text/plain": [
       "<IPython.core.display.Javascript object>"
      ]
     },
     "metadata": {},
     "output_type": "display_data"
    }
   ],
   "source": [
    "SDE = NeuralSDE()"
   ]
  },
  {
   "cell_type": "code",
   "execution_count": 114,
   "id": "2735a3ee",
   "metadata": {},
   "outputs": [
    {
     "data": {
      "text/plain": [
       "(torch.Size([200, 50]), torch.Size([200, 50, 1]), torch.Size([200, 1]))"
      ]
     },
     "execution_count": 114,
     "metadata": {},
     "output_type": "execute_result"
    },
    {
     "data": {
      "application/javascript": [
       "\n",
       "            setTimeout(function() {\n",
       "                var nbb_cell_id = 114;\n",
       "                var nbb_unformatted_code = \"SDE.f(None, X).shape, SDE.g(None, X).shape, SDE.h(None, X).shape\";\n",
       "                var nbb_formatted_code = \"SDE.f(None, X).shape, SDE.g(None, X).shape, SDE.h(None, X).shape\";\n",
       "                var nbb_cells = Jupyter.notebook.get_cells();\n",
       "                for (var i = 0; i < nbb_cells.length; ++i) {\n",
       "                    if (nbb_cells[i].input_prompt_number == nbb_cell_id) {\n",
       "                        if (nbb_cells[i].get_text() == nbb_unformatted_code) {\n",
       "                             nbb_cells[i].set_text(nbb_formatted_code);\n",
       "                        }\n",
       "                        break;\n",
       "                    }\n",
       "                }\n",
       "            }, 500);\n",
       "            "
      ],
      "text/plain": [
       "<IPython.core.display.Javascript object>"
      ]
     },
     "metadata": {},
     "output_type": "display_data"
    }
   ],
   "source": [
    "SDE.f(None, X).shape, SDE.g(None, X).shape, SDE.h(None, X).shape"
   ]
  },
  {
   "cell_type": "code",
   "execution_count": 115,
   "id": "7a57ddaf",
   "metadata": {},
   "outputs": [
    {
     "data": {
      "application/javascript": [
       "\n",
       "            setTimeout(function() {\n",
       "                var nbb_cell_id = 115;\n",
       "                var nbb_unformatted_code = \"t = torch.Tensor([0, 0.25, 0.5, 0.75, 1])\";\n",
       "                var nbb_formatted_code = \"t = torch.Tensor([0, 0.25, 0.5, 0.75, 1])\";\n",
       "                var nbb_cells = Jupyter.notebook.get_cells();\n",
       "                for (var i = 0; i < nbb_cells.length; ++i) {\n",
       "                    if (nbb_cells[i].input_prompt_number == nbb_cell_id) {\n",
       "                        if (nbb_cells[i].get_text() == nbb_unformatted_code) {\n",
       "                             nbb_cells[i].set_text(nbb_formatted_code);\n",
       "                        }\n",
       "                        break;\n",
       "                    }\n",
       "                }\n",
       "            }, 500);\n",
       "            "
      ],
      "text/plain": [
       "<IPython.core.display.Javascript object>"
      ]
     },
     "metadata": {},
     "output_type": "display_data"
    }
   ],
   "source": [
    "t = torch.Tensor([0, 0.25, 0.5, 0.75, 1])"
   ]
  },
  {
   "cell_type": "code",
   "execution_count": 118,
   "id": "a5b300c0",
   "metadata": {},
   "outputs": [
    {
     "data": {
      "application/javascript": [
       "\n",
       "            setTimeout(function() {\n",
       "                var nbb_cell_id = 118;\n",
       "                var nbb_unformatted_code = \"X_hat = torchsde.sdeint(SDE, X, t, dt=0.1, logqp=True)\";\n",
       "                var nbb_formatted_code = \"X_hat = torchsde.sdeint(SDE, X, t, dt=0.1, logqp=True)\";\n",
       "                var nbb_cells = Jupyter.notebook.get_cells();\n",
       "                for (var i = 0; i < nbb_cells.length; ++i) {\n",
       "                    if (nbb_cells[i].input_prompt_number == nbb_cell_id) {\n",
       "                        if (nbb_cells[i].get_text() == nbb_unformatted_code) {\n",
       "                             nbb_cells[i].set_text(nbb_formatted_code);\n",
       "                        }\n",
       "                        break;\n",
       "                    }\n",
       "                }\n",
       "            }, 500);\n",
       "            "
      ],
      "text/plain": [
       "<IPython.core.display.Javascript object>"
      ]
     },
     "metadata": {},
     "output_type": "display_data"
    }
   ],
   "source": [
    "X_hat = torchsde.sdeint(SDE, X, t, dt=0.1, logqp=True)"
   ]
  },
  {
   "cell_type": "code",
   "execution_count": 120,
   "id": "05ae3d90",
   "metadata": {},
   "outputs": [
    {
     "data": {
      "text/plain": [
       "(torch.Size([5, 200, 50]), torch.Size([4, 200]))"
      ]
     },
     "execution_count": 120,
     "metadata": {},
     "output_type": "execute_result"
    },
    {
     "data": {
      "application/javascript": [
       "\n",
       "            setTimeout(function() {\n",
       "                var nbb_cell_id = 120;\n",
       "                var nbb_unformatted_code = \"X_hat[0].shape, X_hat[1].shape\";\n",
       "                var nbb_formatted_code = \"X_hat[0].shape, X_hat[1].shape\";\n",
       "                var nbb_cells = Jupyter.notebook.get_cells();\n",
       "                for (var i = 0; i < nbb_cells.length; ++i) {\n",
       "                    if (nbb_cells[i].input_prompt_number == nbb_cell_id) {\n",
       "                        if (nbb_cells[i].get_text() == nbb_unformatted_code) {\n",
       "                             nbb_cells[i].set_text(nbb_formatted_code);\n",
       "                        }\n",
       "                        break;\n",
       "                    }\n",
       "                }\n",
       "            }, 500);\n",
       "            "
      ],
      "text/plain": [
       "<IPython.core.display.Javascript object>"
      ]
     },
     "metadata": {},
     "output_type": "display_data"
    }
   ],
   "source": [
    "X_hat[0].shape, X_hat[1].shape"
   ]
  },
  {
   "cell_type": "code",
   "execution_count": 42,
   "id": "d991f631",
   "metadata": {},
   "outputs": [],
   "source": [
    "class NeuralSDE(DiffEq):\n",
    "    def __init__(self):\n",
    "        super(NeuralSDE, self).__init__()\n",
    "        ...\n",
    "        \n",
    "    def mu(self):\n",
    "        ...\n",
    "        \n",
    "    def sigma(self):\n",
    "        ...\n",
    "        \n",
    "    def psi(self):\n",
    "        ..."
   ]
  },
  {
   "cell_type": "code",
   "execution_count": 43,
   "id": "4db4046e",
   "metadata": {},
   "outputs": [],
   "source": [
    "nsde = NeuralSDE()"
   ]
  },
  {
   "cell_type": "code",
   "execution_count": 44,
   "id": "ee9f5812",
   "metadata": {},
   "outputs": [],
   "source": [
    "nsde.forward()"
   ]
  },
  {
   "cell_type": "code",
   "execution_count": null,
   "id": "dc10ee52",
   "metadata": {},
   "outputs": [],
   "source": []
  },
  {
   "cell_type": "code",
   "execution_count": null,
   "id": "de17275b",
   "metadata": {},
   "outputs": [],
   "source": [
    "\n",
    "# -- import packages: ----------------------------------------------------------\n",
    "from torch_nets import TorchNet\n",
    "from ._base_neural_sde import BaseNeuralSDE\n",
    "\n",
    "# -- API-facing class: ---------------------------------------------------------\n",
    "class NeuralSDE(BaseNeuralSDE):\n",
    "    def __init__(\n",
    "        self,\n",
    "        state_size=50,\n",
    "        mu_hidden=[400, 400],\n",
    "        sigma_hidden=[400, 400],\n",
    "        mu_activation: str = \"LeakyReLU\",\n",
    "        sigma_activation: str = \"LeakyReLU\",\n",
    "        mu_dropout: int = 0.2,\n",
    "        sigma_dropout: int = 0.2,\n",
    "        mu_augment: int = 0,\n",
    "        sigma_augment: int = 0,\n",
    "        mu_bias=True,\n",
    "        sigma_bias=True,\n",
    "        mu_output_bias=True,\n",
    "        sigma_output_bias=True,\n",
    "        noise_type: str = \"general\",\n",
    "        sde_type: str = \"ito\",\n",
    "        brownian_size = 1,\n",
    "    ):\n",
    "        \"\"\"NeuralSDE. Base-case forward pass.\"\"\"\n",
    "        super(NeuralSDE, self).__init__()\n",
    "\n",
    "        self.__configure__(locals())\n",
    "\n",
    "    def f(self, t, y0):\n",
    "        \"\"\"Forward pass through mu network.\"\"\"\n",
    "        return self.mu(y0)\n",
    "\n",
    "    def g(self, t, y0):\n",
    "        \"\"\"Forward pass through sigma network.\"\"\"\n",
    "        return self._view_g_state(self.sigma(y0))"
   ]
  },
  {
   "cell_type": "code",
   "execution_count": 13,
   "id": "13f06a2e",
   "metadata": {},
   "outputs": [],
   "source": [
    "class SDE(torch.nn.Module):\n",
    "    noise_type = 'general'\n",
    "    sde_type = 'ito'\n",
    "\n",
    "    def __init__(self):\n",
    "        super().__init__()\n",
    "        \n",
    "        self.mu_alt = torch.nn.Linear(state_size, 1, bias=False)\n",
    "        \n",
    "        self.mu = torch.nn.Linear(state_size, \n",
    "                                  state_size)\n",
    "        self.sigma = torch.nn.Linear(state_size, \n",
    "                                     state_size * brownian_size)\n",
    "\n",
    "    # Drift\n",
    "    def f(self, t, y):\n",
    "        return self.mu(y)  # shape (batch_size, state_size)\n",
    "    \n",
    "    \n",
    "    def h(self, t, y):\n",
    "        return self.mu_alt(y)\n",
    "\n",
    "    # Diffusion\n",
    "    def g(self, t, y):\n",
    "        return self.sigma(y).view(batch_size, \n",
    "                                  state_size, \n",
    "                                  brownian_size)"
   ]
  },
  {
   "cell_type": "code",
   "execution_count": 14,
   "id": "5f5e7147",
   "metadata": {},
   "outputs": [],
   "source": [
    "sde = SDE()"
   ]
  },
  {
   "cell_type": "code",
   "execution_count": 15,
   "id": "c03e5514",
   "metadata": {},
   "outputs": [
    {
     "data": {
      "text/plain": [
       "torch.Size([32, 3])"
      ]
     },
     "execution_count": 15,
     "metadata": {},
     "output_type": "execute_result"
    }
   ],
   "source": [
    "y0 = torch.full((batch_size, state_size), 0.1)\n",
    "y0.shape"
   ]
  },
  {
   "cell_type": "code",
   "execution_count": 16,
   "id": "a58960b8",
   "metadata": {},
   "outputs": [
    {
     "data": {
      "text/plain": [
       "torch.Size([20])"
      ]
     },
     "execution_count": 16,
     "metadata": {},
     "output_type": "execute_result"
    }
   ],
   "source": [
    "ts = torch.linspace(0, 1, t_size)\n",
    "ts.shape"
   ]
  },
  {
   "cell_type": "code",
   "execution_count": 17,
   "id": "509c30d1",
   "metadata": {},
   "outputs": [],
   "source": [
    "# Initial state y0, the SDE is solved over the interval [ts[0], ts[-1]].\n",
    "# ys will have shape (t_size, batch_size, state_size)\n"
   ]
  },
  {
   "cell_type": "code",
   "execution_count": 28,
   "id": "34479835",
   "metadata": {},
   "outputs": [],
   "source": [
    "ys, kl = torchsde.sdeint(sde, y0, ts, logqp=True)"
   ]
  },
  {
   "cell_type": "code",
   "execution_count": null,
   "id": "660e137e",
   "metadata": {},
   "outputs": [],
   "source": [
    "ys."
   ]
  },
  {
   "cell_type": "code",
   "execution_count": null,
   "id": "60d8f246",
   "metadata": {},
   "outputs": [],
   "source": [
    "lam"
   ]
  },
  {
   "cell_type": "code",
   "execution_count": 32,
   "id": "85630c3c",
   "metadata": {},
   "outputs": [
    {
     "data": {
      "text/plain": [
       "tensor(956.0693, grad_fn=<SumBackward0>)"
      ]
     },
     "execution_count": 32,
     "metadata": {},
     "output_type": "execute_result"
    }
   ],
   "source": [
    "kl.sum() * λ"
   ]
  },
  {
   "cell_type": "code",
   "execution_count": 27,
   "id": "66e60b90",
   "metadata": {},
   "outputs": [
    {
     "data": {
      "text/plain": [
       "torch.Size([19, 32])"
      ]
     },
     "execution_count": 27,
     "metadata": {},
     "output_type": "execute_result"
    }
   ],
   "source": [
    "ys[1].shape"
   ]
  },
  {
   "cell_type": "code",
   "execution_count": 22,
   "id": "99cecfeb",
   "metadata": {},
   "outputs": [
    {
     "ename": "AttributeError",
     "evalue": "'tuple' object has no attribute 'shape'",
     "output_type": "error",
     "traceback": [
      "\u001b[0;31m---------------------------------------------------------------------------\u001b[0m",
      "\u001b[0;31mAttributeError\u001b[0m                            Traceback (most recent call last)",
      "Cell \u001b[0;32mIn[22], line 1\u001b[0m\n\u001b[0;32m----> 1\u001b[0m \u001b[43mys\u001b[49m\u001b[38;5;241;43m.\u001b[39;49m\u001b[43mshape\u001b[49m\n",
      "\u001b[0;31mAttributeError\u001b[0m: 'tuple' object has no attribute 'shape'"
     ]
    }
   ],
   "source": [
    "ys.shape"
   ]
  },
  {
   "cell_type": "code",
   "execution_count": 20,
   "id": "f8bb5373",
   "metadata": {},
   "outputs": [
    {
     "data": {
      "text/plain": [
       "torch.Size([20, 32, 3])"
      ]
     },
     "execution_count": 20,
     "metadata": {},
     "output_type": "execute_result"
    }
   ],
   "source": [
    "ys.shape"
   ]
  },
  {
   "cell_type": "code",
   "execution_count": null,
   "id": "b2ffe2a1",
   "metadata": {},
   "outputs": [],
   "source": []
  }
 ],
 "metadata": {
  "kernelspec": {
   "display_name": "Python [conda env:nde-dev]",
   "language": "python",
   "name": "conda-env-nde-dev-py"
  },
  "language_info": {
   "codemirror_mode": {
    "name": "ipython",
    "version": 3
   },
   "file_extension": ".py",
   "mimetype": "text/x-python",
   "name": "python",
   "nbconvert_exporter": "python",
   "pygments_lexer": "ipython3",
   "version": "3.9.16"
  }
 },
 "nbformat": 4,
 "nbformat_minor": 5
}
