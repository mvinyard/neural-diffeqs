{
 "cells": [
  {
   "cell_type": "markdown",
   "id": "fba726e4",
   "metadata": {},
   "source": [
    "## Testing interplay of the `NeuralDiffEq` object with `torchsde` and `torchode`\n",
    "\n",
    "In general, we are focusing on two specific types of neural networks, both implemented in pytorch using `torch.nn.Sequential`: \n",
    "\n",
    "1. **Potential nets** where the input to the network is the dimensionality of the data and the output is a single parameter. Under the hood, in this implementetion of neural differential equations, this output is calculated as the gradient of the potential with respect to the input position and the output is mapped back to the input dimension of the data.\n",
    "2. **Forward nets** where the input and output dim are both of the same dimension; this is the canonical input to a neural DE."
   ]
  },
  {
   "cell_type": "markdown",
   "id": "5cab4328",
   "metadata": {},
   "source": [
    "### Import packages and generate some dummy data"
   ]
  },
  {
   "cell_type": "code",
   "execution_count": 1,
   "id": "bad3edfe",
   "metadata": {},
   "outputs": [
    {
     "data": {
      "text/plain": [
       "(torch.Size([200, 50]), torch.Size([3]))"
      ]
     },
     "execution_count": 1,
     "metadata": {},
     "output_type": "execute_result"
    }
   ],
   "source": [
    "import neural_diffeqs\n",
    "import torch\n",
    "from torchdiffeq import odeint\n",
    "from torchsde import sdeint\n",
    "\n",
    "X0 = torch.randn([200, 50])\n",
    "t = torch.Tensor([0, 1, 2])\n",
    "X0.shape, t.shape"
   ]
  },
  {
   "cell_type": "markdown",
   "id": "a781def0",
   "metadata": {},
   "source": [
    "####  SDE with `mu` as a potential net\n",
    "\n",
    "This is the most likely use-case."
   ]
  },
  {
   "cell_type": "code",
   "execution_count": 2,
   "id": "9547f478",
   "metadata": {},
   "outputs": [
    {
     "data": {
      "text/plain": [
       "NeuralDiffEq(\n",
       "  (mu): Sequential(\n",
       "    (input_layer): Linear(in_features=50, out_features=400, bias=True)\n",
       "    (activation_1): Tanh()\n",
       "    (hidden_1): Linear(in_features=400, out_features=400, bias=True)\n",
       "    (activation_2): Tanh()\n",
       "    (output_layer): Linear(in_features=400, out_features=1, bias=True)\n",
       "  )\n",
       "  (sigma): Sequential(\n",
       "    (input_layer): Linear(in_features=50, out_features=400, bias=True)\n",
       "    (activation_1): Tanh()\n",
       "    (hidden_1): Linear(in_features=400, out_features=400, bias=True)\n",
       "    (activation_2): Tanh()\n",
       "    (output_layer): Linear(in_features=400, out_features=50, bias=True)\n",
       "  )\n",
       ")"
      ]
     },
     "execution_count": 2,
     "metadata": {},
     "output_type": "execute_result"
    }
   ],
   "source": [
    "SDE = neural_diffeqs.neural_diffeq(mu_dropout=False, sigma_dropout=False)\n",
    "SDE"
   ]
  },
  {
   "cell_type": "code",
   "execution_count": 3,
   "id": "0cb5892e",
   "metadata": {},
   "outputs": [
    {
     "data": {
      "text/plain": [
       "torch.Size([3, 200, 50])"
      ]
     },
     "execution_count": 3,
     "metadata": {},
     "output_type": "execute_result"
    }
   ],
   "source": [
    "X_pred = sdeint(SDE, X0,  t)\n",
    "X_pred.shape"
   ]
  },
  {
   "cell_type": "markdown",
   "id": "6bce3248",
   "metadata": {},
   "source": [
    "#### SDE with `mu` and `sigma`  as potential nets\n",
    "\n",
    "I'm still not sure if this scenario is necessary or even relevant to a realistic drift-diffusion equation, but testing it nonetheless. The reason I am unsure is that it's unclear to me whether the gradient of the potential is encoded and discovered through the drift (`mu`) alone or if there are components of gradient functions in diffusion. This may be the case as one can imagine the magnitude of diffusion dropping off at a gradient."
   ]
  },
  {
   "cell_type": "code",
   "execution_count": 4,
   "id": "8570b5aa",
   "metadata": {},
   "outputs": [
    {
     "data": {
      "text/plain": [
       "NeuralDiffEq(\n",
       "  (mu): Sequential(\n",
       "    (input_layer): Linear(in_features=50, out_features=400, bias=True)\n",
       "    (activation_1): Tanh()\n",
       "    (hidden_1): Linear(in_features=400, out_features=400, bias=True)\n",
       "    (activation_2): Tanh()\n",
       "    (output_layer): Linear(in_features=400, out_features=1, bias=True)\n",
       "  )\n",
       "  (sigma): Sequential(\n",
       "    (input_layer): Linear(in_features=50, out_features=400, bias=True)\n",
       "    (activation_1): Tanh()\n",
       "    (hidden_1): Linear(in_features=400, out_features=400, bias=True)\n",
       "    (activation_2): Tanh()\n",
       "    (output_layer): Linear(in_features=400, out_features=1, bias=True)\n",
       "  )\n",
       ")"
      ]
     },
     "execution_count": 4,
     "metadata": {},
     "output_type": "execute_result"
    }
   ],
   "source": [
    "SDE = neural_diffeqs.neural_diffeq(mu_potential=True, mu_dropout=False, sigma_potential=True, sigma_dropout=False)\n",
    "SDE"
   ]
  },
  {
   "cell_type": "code",
   "execution_count": 5,
   "id": "a21daba1",
   "metadata": {},
   "outputs": [
    {
     "data": {
      "text/plain": [
       "torch.Size([3, 200, 50])"
      ]
     },
     "execution_count": 5,
     "metadata": {},
     "output_type": "execute_result"
    }
   ],
   "source": [
    "X_pred = sdeint(SDE, X0,  t)\n",
    "X_pred.shape"
   ]
  },
  {
   "cell_type": "markdown",
   "id": "607c89e7",
   "metadata": {},
   "source": [
    "####  Neural ODE with `mu` as a potential net"
   ]
  },
  {
   "cell_type": "code",
   "execution_count": 6,
   "id": "5c44fc8b",
   "metadata": {
    "scrolled": true
   },
   "outputs": [
    {
     "data": {
      "text/plain": [
       "NeuralDiffEq(\n",
       "  (mu): Sequential(\n",
       "    (input_layer): Linear(in_features=50, out_features=400, bias=True)\n",
       "    (activation_1): Tanh()\n",
       "    (hidden_1): Linear(in_features=400, out_features=400, bias=True)\n",
       "    (activation_2): Tanh()\n",
       "    (output_layer): Linear(in_features=400, out_features=1, bias=True)\n",
       "  )\n",
       ")"
      ]
     },
     "execution_count": 6,
     "metadata": {},
     "output_type": "execute_result"
    }
   ],
   "source": [
    "ODE = neural_diffeqs.neural_diffeq(mu_dropout=False, mu_potential=True, sigma_hidden=False)\n",
    "ODE"
   ]
  },
  {
   "cell_type": "code",
   "execution_count": 7,
   "id": "3d39eaca",
   "metadata": {},
   "outputs": [
    {
     "data": {
      "text/plain": [
       "torch.Size([3, 200, 50])"
      ]
     },
     "execution_count": 7,
     "metadata": {},
     "output_type": "execute_result"
    }
   ],
   "source": [
    "X_pred = odeint(SDE, X0,  t)\n",
    "X_pred.shape"
   ]
  },
  {
   "cell_type": "markdown",
   "id": "a75df44a",
   "metadata": {},
   "source": [
    "####  Neural ODE with `mu` is a normal neural net"
   ]
  },
  {
   "cell_type": "code",
   "execution_count": 8,
   "id": "6f0001d7",
   "metadata": {},
   "outputs": [
    {
     "data": {
      "text/plain": [
       "NeuralDiffEq(\n",
       "  (mu): Sequential(\n",
       "    (input_layer): Linear(in_features=50, out_features=400, bias=True)\n",
       "    (activation_1): Tanh()\n",
       "    (hidden_1): Linear(in_features=400, out_features=400, bias=True)\n",
       "    (activation_2): Tanh()\n",
       "    (output_layer): Linear(in_features=400, out_features=50, bias=True)\n",
       "  )\n",
       ")"
      ]
     },
     "execution_count": 8,
     "metadata": {},
     "output_type": "execute_result"
    }
   ],
   "source": [
    "ODE = neural_diffeqs.neural_diffeq(mu_dropout=False, mu_potential=False, sigma_hidden=False)\n",
    "ODE"
   ]
  },
  {
   "cell_type": "code",
   "execution_count": 9,
   "id": "69097e65",
   "metadata": {},
   "outputs": [
    {
     "data": {
      "text/plain": [
       "torch.Size([3, 200, 50])"
      ]
     },
     "execution_count": 9,
     "metadata": {},
     "output_type": "execute_result"
    }
   ],
   "source": [
    "X_pred = odeint(ODE, X0, t)\n",
    "X_pred.shape"
   ]
  }
 ],
 "metadata": {
  "kernelspec": {
   "display_name": "Python [conda env:10x]",
   "language": "python",
   "name": "conda-env-10x-py"
  },
  "language_info": {
   "codemirror_mode": {
    "name": "ipython",
    "version": 3
   },
   "file_extension": ".py",
   "mimetype": "text/x-python",
   "name": "python",
   "nbconvert_exporter": "python",
   "pygments_lexer": "ipython3",
   "version": "3.7.6"
  }
 },
 "nbformat": 4,
 "nbformat_minor": 5
}
