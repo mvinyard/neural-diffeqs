{
 "cells": [
  {
   "cell_type": "code",
   "execution_count": 1,
   "id": "0d55044b",
   "metadata": {},
   "outputs": [],
   "source": [
    "from neural_diffeqs import neural_diffeq"
   ]
  },
  {
   "cell_type": "code",
   "execution_count": 2,
   "id": "2ab23991",
   "metadata": {},
   "outputs": [
    {
     "data": {
      "text/plain": [
       "NeuralDiffEq(\n",
       "  (mu): Sequential(\n",
       "    (input_layer): Linear(in_features=2, out_features=125, bias=True)\n",
       "    (activation_1): Tanh()\n",
       "    (dropout_1): Dropout(p=0.5, inplace=False)\n",
       "    (hidden_1): Linear(in_features=125, out_features=125, bias=True)\n",
       "    (activation_2): Tanh()\n",
       "    (dropout_2): Dropout(p=0.5, inplace=False)\n",
       "    (output_layer): Linear(in_features=125, out_features=2, bias=True)\n",
       "  )\n",
       "  (sigma): Sequential(\n",
       "    (input_layer): Linear(in_features=2, out_features=125, bias=True)\n",
       "    (activation_1): Tanh()\n",
       "    (dropout_1): Dropout(p=0.5, inplace=False)\n",
       "    (hidden_1): Linear(in_features=125, out_features=125, bias=True)\n",
       "    (activation_2): Tanh()\n",
       "    (dropout_2): Dropout(p=0.5, inplace=False)\n",
       "    (output_layer): Linear(in_features=125, out_features=2, bias=True)\n",
       "  )\n",
       ")"
      ]
     },
     "execution_count": 2,
     "metadata": {},
     "output_type": "execute_result"
    }
   ],
   "source": [
    "SDE = neural_diffeq()\n",
    "SDE"
   ]
  },
  {
   "cell_type": "code",
   "execution_count": 3,
   "id": "206916f0",
   "metadata": {},
   "outputs": [
    {
     "data": {
      "text/plain": [
       "NeuralDiffEq(\n",
       "  (mu): Sequential(\n",
       "    (input_layer): Linear(in_features=2, out_features=125, bias=True)\n",
       "    (activation_1): Tanh()\n",
       "    (hidden_1): Linear(in_features=125, out_features=125, bias=True)\n",
       "    (activation_2): Tanh()\n",
       "    (output_layer): Linear(in_features=125, out_features=2, bias=True)\n",
       "  )\n",
       ")"
      ]
     },
     "execution_count": 3,
     "metadata": {},
     "output_type": "execute_result"
    }
   ],
   "source": [
    "ODE = neural_diffeq(sigma=False)\n",
    "ODE"
   ]
  }
 ],
 "metadata": {
  "kernelspec": {
   "display_name": "Python [conda env:neural_diffeqs]",
   "language": "python",
   "name": "conda-env-neural_diffeqs-py"
  },
  "language_info": {
   "codemirror_mode": {
    "name": "ipython",
    "version": 3
   },
   "file_extension": ".py",
   "mimetype": "text/x-python",
   "name": "python",
   "nbconvert_exporter": "python",
   "pygments_lexer": "ipython3",
   "version": "3.9.12"
  }
 },
 "nbformat": 4,
 "nbformat_minor": 5
}
